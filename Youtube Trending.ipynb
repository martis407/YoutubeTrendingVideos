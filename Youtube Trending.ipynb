{
 "cells": [
  {
   "cell_type": "markdown",
   "metadata": {},
   "source": [
    "# USA Youtube trending videos\n",
    "\n",
    "We are going to explore data on youtube videos that went on trending.\n",
    "Some questions to consider:\n",
    "The day of uploading in contrast to the trending date.\n",
    "The amount of unique channels that go into the trending gate.\n",
    "Are the videos unique in their likely hood of going on trending, or are they based on the subscriber count of the youtubers?\n",
    "Does having many dislikes decrease the likelihood of going on trending or is there an opposite effect happening?\n",
    "### Data introduction\n",
    "Time, Categories included, country etc\n",
    "\n",
    "### Goal\n",
    "We want to find the highest indicators of a youtube video going up for trending.\n",
    "- Could it be related to the uploader?\n",
    "- Is it view count?\n",
    "- Is it comment count to view count ratio?\n",
    "- Is it dislike and like engagement total?\n",
    "- Is it more likely for a video to go viral based on the category of video it is?\n",
    "- Do certain keyword help?\n",
    "- Does upload time help?"
   ]
  },
  {
   "cell_type": "markdown",
   "metadata": {},
   "source": [
    "## Data exploration"
   ]
  },
  {
   "cell_type": "code",
   "execution_count": 1,
   "metadata": {},
   "outputs": [],
   "source": [
    "import pandas as pd\n",
    "import matplotlib.pyplot as plt\n",
    "import numpy as np\n",
    "import datetime as dt\n",
    "import csv\n",
    "\n",
    "pd.set_option('float_format', '{:f}'.format)\n",
    "\n",
    "usvids = pd.read_csv('USvideos.csv')"
   ]
  },
  {
   "cell_type": "code",
   "execution_count": 2,
   "metadata": {},
   "outputs": [
    {
     "data": {
      "text/plain": [
       "'C:\\\\Users\\\\Mr. Mittens\\\\Mydatasets'"
      ]
     },
     "execution_count": 2,
     "metadata": {},
     "output_type": "execute_result"
    }
   ],
   "source": [
    "%pwd"
   ]
  },
  {
   "cell_type": "code",
   "execution_count": 2,
   "metadata": {},
   "outputs": [
    {
     "name": "stdout",
     "output_type": "stream",
     "text": [
      "<class 'pandas.core.frame.DataFrame'>\n",
      "RangeIndex: 40949 entries, 0 to 40948\n",
      "Data columns (total 16 columns):\n",
      "video_id                  40949 non-null object\n",
      "trending_date             40949 non-null object\n",
      "title                     40949 non-null object\n",
      "channel_title             40949 non-null object\n",
      "category_id               40949 non-null int64\n",
      "publish_time              40949 non-null object\n",
      "tags                      40949 non-null object\n",
      "views                     40949 non-null int64\n",
      "likes                     40949 non-null int64\n",
      "dislikes                  40949 non-null int64\n",
      "comment_count             40949 non-null int64\n",
      "thumbnail_link            40949 non-null object\n",
      "comments_disabled         40949 non-null bool\n",
      "ratings_disabled          40949 non-null bool\n",
      "video_error_or_removed    40949 non-null bool\n",
      "description               40379 non-null object\n",
      "dtypes: bool(3), int64(5), object(8)\n",
      "memory usage: 4.2+ MB\n"
     ]
    }
   ],
   "source": [
    "usvids.info()"
   ]
  },
  {
   "cell_type": "markdown",
   "metadata": {},
   "source": [
    "Here we can see that we need to clean up some columns. First trending_date and publish_time are both date data, but seem to be an object type."
   ]
  },
  {
   "cell_type": "code",
   "execution_count": 3,
   "metadata": {},
   "outputs": [
    {
     "data": {
      "text/html": [
       "<div>\n",
       "<style scoped>\n",
       "    .dataframe tbody tr th:only-of-type {\n",
       "        vertical-align: middle;\n",
       "    }\n",
       "\n",
       "    .dataframe tbody tr th {\n",
       "        vertical-align: top;\n",
       "    }\n",
       "\n",
       "    .dataframe thead th {\n",
       "        text-align: right;\n",
       "    }\n",
       "</style>\n",
       "<table border=\"1\" class=\"dataframe\">\n",
       "  <thead>\n",
       "    <tr style=\"text-align: right;\">\n",
       "      <th></th>\n",
       "      <th>video_id</th>\n",
       "      <th>trending_date</th>\n",
       "      <th>title</th>\n",
       "      <th>channel_title</th>\n",
       "      <th>category_id</th>\n",
       "      <th>publish_time</th>\n",
       "      <th>tags</th>\n",
       "      <th>views</th>\n",
       "      <th>likes</th>\n",
       "      <th>dislikes</th>\n",
       "      <th>comment_count</th>\n",
       "      <th>thumbnail_link</th>\n",
       "      <th>comments_disabled</th>\n",
       "      <th>ratings_disabled</th>\n",
       "      <th>video_error_or_removed</th>\n",
       "      <th>description</th>\n",
       "    </tr>\n",
       "  </thead>\n",
       "  <tbody>\n",
       "    <tr>\n",
       "      <th>0</th>\n",
       "      <td>2kyS6SvSYSE</td>\n",
       "      <td>17.14.11</td>\n",
       "      <td>WE WANT TO TALK ABOUT OUR MARRIAGE</td>\n",
       "      <td>CaseyNeistat</td>\n",
       "      <td>22</td>\n",
       "      <td>2017-11-13T17:13:01.000Z</td>\n",
       "      <td>SHANtell martin</td>\n",
       "      <td>748374</td>\n",
       "      <td>57527</td>\n",
       "      <td>2966</td>\n",
       "      <td>15954</td>\n",
       "      <td>https://i.ytimg.com/vi/2kyS6SvSYSE/default.jpg</td>\n",
       "      <td>False</td>\n",
       "      <td>False</td>\n",
       "      <td>False</td>\n",
       "      <td>SHANTELL'S CHANNEL - https://www.youtube.com/s...</td>\n",
       "    </tr>\n",
       "    <tr>\n",
       "      <th>1</th>\n",
       "      <td>1ZAPwfrtAFY</td>\n",
       "      <td>17.14.11</td>\n",
       "      <td>The Trump Presidency: Last Week Tonight with J...</td>\n",
       "      <td>LastWeekTonight</td>\n",
       "      <td>24</td>\n",
       "      <td>2017-11-13T07:30:00.000Z</td>\n",
       "      <td>last week tonight trump presidency|\"last week ...</td>\n",
       "      <td>2418783</td>\n",
       "      <td>97185</td>\n",
       "      <td>6146</td>\n",
       "      <td>12703</td>\n",
       "      <td>https://i.ytimg.com/vi/1ZAPwfrtAFY/default.jpg</td>\n",
       "      <td>False</td>\n",
       "      <td>False</td>\n",
       "      <td>False</td>\n",
       "      <td>One year after the presidential election, John...</td>\n",
       "    </tr>\n",
       "    <tr>\n",
       "      <th>2</th>\n",
       "      <td>5qpjK5DgCt4</td>\n",
       "      <td>17.14.11</td>\n",
       "      <td>Racist Superman | Rudy Mancuso, King Bach &amp; Le...</td>\n",
       "      <td>Rudy Mancuso</td>\n",
       "      <td>23</td>\n",
       "      <td>2017-11-12T19:05:24.000Z</td>\n",
       "      <td>racist superman|\"rudy\"|\"mancuso\"|\"king\"|\"bach\"...</td>\n",
       "      <td>3191434</td>\n",
       "      <td>146033</td>\n",
       "      <td>5339</td>\n",
       "      <td>8181</td>\n",
       "      <td>https://i.ytimg.com/vi/5qpjK5DgCt4/default.jpg</td>\n",
       "      <td>False</td>\n",
       "      <td>False</td>\n",
       "      <td>False</td>\n",
       "      <td>WATCH MY PREVIOUS VIDEO ▶ \\n\\nSUBSCRIBE ► http...</td>\n",
       "    </tr>\n",
       "  </tbody>\n",
       "</table>\n",
       "</div>"
      ],
      "text/plain": [
       "      video_id trending_date  \\\n",
       "0  2kyS6SvSYSE      17.14.11   \n",
       "1  1ZAPwfrtAFY      17.14.11   \n",
       "2  5qpjK5DgCt4      17.14.11   \n",
       "\n",
       "                                               title    channel_title  \\\n",
       "0                 WE WANT TO TALK ABOUT OUR MARRIAGE     CaseyNeistat   \n",
       "1  The Trump Presidency: Last Week Tonight with J...  LastWeekTonight   \n",
       "2  Racist Superman | Rudy Mancuso, King Bach & Le...     Rudy Mancuso   \n",
       "\n",
       "   category_id              publish_time  \\\n",
       "0           22  2017-11-13T17:13:01.000Z   \n",
       "1           24  2017-11-13T07:30:00.000Z   \n",
       "2           23  2017-11-12T19:05:24.000Z   \n",
       "\n",
       "                                                tags    views   likes  \\\n",
       "0                                    SHANtell martin   748374   57527   \n",
       "1  last week tonight trump presidency|\"last week ...  2418783   97185   \n",
       "2  racist superman|\"rudy\"|\"mancuso\"|\"king\"|\"bach\"...  3191434  146033   \n",
       "\n",
       "   dislikes  comment_count                                  thumbnail_link  \\\n",
       "0      2966          15954  https://i.ytimg.com/vi/2kyS6SvSYSE/default.jpg   \n",
       "1      6146          12703  https://i.ytimg.com/vi/1ZAPwfrtAFY/default.jpg   \n",
       "2      5339           8181  https://i.ytimg.com/vi/5qpjK5DgCt4/default.jpg   \n",
       "\n",
       "   comments_disabled  ratings_disabled  video_error_or_removed  \\\n",
       "0              False             False                   False   \n",
       "1              False             False                   False   \n",
       "2              False             False                   False   \n",
       "\n",
       "                                         description  \n",
       "0  SHANTELL'S CHANNEL - https://www.youtube.com/s...  \n",
       "1  One year after the presidential election, John...  \n",
       "2  WATCH MY PREVIOUS VIDEO ▶ \\n\\nSUBSCRIBE ► http...  "
      ]
     },
     "execution_count": 3,
     "metadata": {},
     "output_type": "execute_result"
    }
   ],
   "source": [
    "usvids.head(3)"
   ]
  },
  {
   "cell_type": "markdown",
   "metadata": {},
   "source": [
    "##  Section 1 Uploader - channel_title\n",
    "Likelihood of a video going viral based on the uploader:\n",
    "- How likely are big channels in making it to trending?\n",
    "- What percentage of channels go into trending? (One-time hit)\n",
    "\n",
    "First we will see how many channels are included in the current trending list."
   ]
  },
  {
   "cell_type": "code",
   "execution_count": 4,
   "metadata": {},
   "outputs": [
    {
     "data": {
      "text/plain": [
       "2207"
      ]
     },
     "execution_count": 4,
     "metadata": {},
     "output_type": "execute_result"
    }
   ],
   "source": [
    "channels = usvids.groupby('channel_title')\n",
    "len(channels)"
   ]
  },
  {
   "cell_type": "markdown",
   "metadata": {},
   "source": [
    "There are 2207 different channels that are contributing to the trending page. There are 40948 videos in the dataset. This means that if they had equal distribution, there would be 5% of videos per channel.\n",
    "Let's see the video count distribution per channel."
   ]
  },
  {
   "cell_type": "code",
   "execution_count": 5,
   "metadata": {},
   "outputs": [
    {
     "data": {
      "text/plain": [
       "Text(0.5, 1.0, 'Channels per videos on the trending page')"
      ]
     },
     "execution_count": 5,
     "metadata": {},
     "output_type": "execute_result"
    },
    {
     "data": {
      "image/png": "[encoded data removed]",
      "text/plain": [
       "<Figure size 432x288 with 1 Axes>"
      ]
     },
     "metadata": {
      "needs_background": "light"
     },
     "output_type": "display_data"
    }
   ],
   "source": [
    "channelpop = usvids['channel_title'].value_counts()\n",
    "fig, ax = plt.subplots()\n",
    "ax.hist(channelpop,bins=20)\n",
    "ax.set_xlabel('Number of videos on trending')\n",
    "ax.set_ylabel('Channel Count')\n",
    "ax.set_title('Channels per videos on the trending page')"
   ]
  },
  {
   "cell_type": "markdown",
   "metadata": {},
   "source": [
    "We can see that a vast majority of videos originate from unique youtube channels. The distribution has a very long tail. Let's try to separate the distribution for the minor channels with the most popular channels. We can cut off at 100, as it is an even center."
   ]
  },
  {
   "cell_type": "code",
   "execution_count": 6,
   "metadata": {},
   "outputs": [
    {
     "name": "stdout",
     "output_type": "stream",
     "text": [
      "The channels with over 100 videos account for 23.4 % of the whole dataset.\n",
      "There are a total of 69 channels with more than 100 videos that went to trending, or about 3% of all channels.\n"
     ]
    },
    {
     "name": "stderr",
     "output_type": "stream",
     "text": [
      "C:\\ForAnaconda\\lib\\site-packages\\ipykernel_launcher.py:6: FutureWarning: The signature of `Series.to_csv` was aligned to that of `DataFrame.to_csv`, and argument 'header' will change its default value from False to True: please pass an explicit value to suppress this warning.\n",
      "  \n"
     ]
    }
   ],
   "source": [
    "channel_top = channelpop[channelpop >= 100]\n",
    "#fig, ax = plt.subplots()\n",
    "#ax.hist(channel_top,bins=10)\n",
    "print('The channels with over 100 videos account for',round(channel_top.sum()/len(usvids)*100,2),'% of the whole dataset.')\n",
    "print('There are a total of',len(channel_top),'channels with more than 100 videos that went to trending, or about 3% of all channels.')\n",
    "channel_top.to_csv('top channels.csv')"
   ]
  },
  {
   "cell_type": "markdown",
   "metadata": {},
   "source": [
    "It seems that 3% of channels compromise for 23.4% of our dataset. We want to investigate what type of channels they are. Are they big channels? How many subsribers do they have? Are they companies or individuals behind the channels?\n",
    "Overall it seems that a small group of channels share a large portion of what goes up on trending."
   ]
  },
  {
   "cell_type": "code",
   "execution_count": 7,
   "metadata": {},
   "outputs": [
    {
     "name": "stdout",
     "output_type": "stream",
     "text": [
      "The channels with under 100 videos account for 76.6 % of the whole dataset\n",
      "There are a total of 2138 channels with less than 100 videos that went to trending.\n"
     ]
    }
   ],
   "source": [
    "channel_low = channelpop[channelpop <= 100]\n",
    "#fig, ax = plt.subplots()\n",
    "#ax.hist(channel_low,bins=10)\n",
    "print('The channels with under 100 videos account for',round(channel_low.sum()/len(usvids)*100,2),'% of the whole dataset')\n",
    "print('There are a total of',len(channel_low),'channels with less than 100 videos that went to trending.')\n"
   ]
  },
  {
   "cell_type": "markdown",
   "metadata": {},
   "source": [
    "The rest of the videos (76.6%) come from a larger pool of channels (97%)."
   ]
  },
  {
   "cell_type": "markdown",
   "metadata": {},
   "source": [
    "# CHANNEL INFORMATION FOR TOP CHANNELS PLEASE RESEARCH"
   ]
  },
  {
   "cell_type": "code",
   "execution_count": null,
   "metadata": {},
   "outputs": [],
   "source": []
  },
  {
   "cell_type": "code",
   "execution_count": 8,
   "metadata": {},
   "outputs": [
    {
     "name": "stdout",
     "output_type": "stream",
     "text": [
      "Unique videos 6364\n"
     ]
    },
    {
     "data": {
      "text/plain": [
       "1050"
      ]
     },
     "execution_count": 8,
     "metadata": {},
     "output_type": "execute_result"
    }
   ],
   "source": [
    "unique_vids = usvids.groupby(['video_id','channel_title']).size()\n",
    "print('Unique videos',len(unique_vids))\n",
    "len(unique_vids[unique_vids > 10])\n",
    "#ax1 = unique_vids.plot.scatter()"
   ]
  },
  {
   "cell_type": "code",
   "execution_count": 9,
   "metadata": {},
   "outputs": [
    {
     "data": {
      "text/plain": [
       "video_id     channel_title    \n",
       "-0CMnp02rNY  TheEllenShow         6\n",
       "-0NYY8cqdiQ  TheEllenShow         1\n",
       "-1Hm41N0dUs  Jimmy Kimmel Live    3\n",
       "dtype: int64"
      ]
     },
     "execution_count": 9,
     "metadata": {},
     "output_type": "execute_result"
    }
   ],
   "source": [
    "unique_vids.columns = ['video_id','channel_title','video_count']\n",
    "unique_vids[:3]"
   ]
  },
  {
   "cell_type": "code",
   "execution_count": 10,
   "metadata": {},
   "outputs": [],
   "source": [
    "sorted_unique_vids = unique_vids.sort_values()"
   ]
  },
  {
   "cell_type": "code",
   "execution_count": 11,
   "metadata": {},
   "outputs": [
    {
     "data": {
      "text/plain": [
       "<matplotlib.axes._subplots.AxesSubplot at 0x22ab8ed5f98>"
      ]
     },
     "execution_count": 11,
     "metadata": {},
     "output_type": "execute_result"
    },
    {
     "data": {
      "image/png": "[encoded data removed]",
      "text/plain": [
       "<Figure size 432x288 with 1 Axes>"
      ]
     },
     "metadata": {
      "needs_background": "light"
     },
     "output_type": "display_data"
    }
   ],
   "source": [
    "sorted_unique_vids.hist()"
   ]
  },
  {
   "cell_type": "markdown",
   "metadata": {},
   "source": [
    "\n",
    "## Section 2 Views\n",
    "- view count with time (date/ weekday)\n",
    "- distribution of view count accross all trending videos\n",
    "- view count in relation to the uploader"
   ]
  },
  {
   "cell_type": "code",
   "execution_count": 48,
   "metadata": {},
   "outputs": [
    {
     "data": {
      "text/plain": [
       "count       40949.000000\n",
       "mean      2360784.638257\n",
       "std       7394113.759704\n",
       "min           549.000000\n",
       "25%        242329.000000\n",
       "50%        681861.000000\n",
       "75%       1823157.000000\n",
       "max     225211923.000000\n",
       "Name: views, dtype: float64"
      ]
     },
     "execution_count": 48,
     "metadata": {},
     "output_type": "execute_result"
    }
   ],
   "source": [
    "usvids['views'].describe()"
   ]
  },
  {
   "cell_type": "code",
   "execution_count": 49,
   "metadata": {},
   "outputs": [
    {
     "data": {
      "text/plain": [
       "(array([4.0366e+04, 3.6800e+02, 1.2700e+02, 3.9000e+01, 1.7000e+01,\n",
       "        1.2000e+01, 7.0000e+00, 4.0000e+00, 4.0000e+00, 5.0000e+00]),\n",
       " array([5.49000000e+02, 2.25216864e+07, 4.50428238e+07, 6.75639612e+07,\n",
       "        9.00850986e+07, 1.12606236e+08, 1.35127373e+08, 1.57648511e+08,\n",
       "        1.80169648e+08, 2.02690786e+08, 2.25211923e+08]),\n",
       " <a list of 10 Patch objects>)"
      ]
     },
     "execution_count": 49,
     "metadata": {},
     "output_type": "execute_result"
    },
    {
     "data": {
      "image/png": "[encoded data removed]",
      "text/plain": [
       "<Figure size 432x288 with 1 Axes>"
      ]
     },
     "metadata": {
      "needs_background": "light"
     },
     "output_type": "display_data"
    }
   ],
   "source": [
    "fig, ax = plt.subplots()\n",
    "ax.hist(usvids['views'])"
   ]
  },
  {
   "cell_type": "markdown",
   "metadata": {},
   "source": [
    "We can see that the majority of the videos have under 50 million views. To view the data in more detail we will again divide it into two datasets. One will include those under 25 million and the rest up to the maximum.\n",
    "\n",
    "We will begin with the videos over 25 million views and see how many reached this capstone."
   ]
  },
  {
   "cell_type": "code",
   "execution_count": 14,
   "metadata": {},
   "outputs": [
    {
     "name": "stdout",
     "output_type": "stream",
     "text": [
      "507\n"
     ]
    },
    {
     "data": {
      "image/png": "[encoded data removed]",
      "text/plain": [
       "<Figure size 432x288 with 1 Axes>"
      ]
     },
     "metadata": {
      "needs_background": "light"
     },
     "output_type": "display_data"
    }
   ],
   "source": [
    "views_over = usvids[usvids['views'] >= 25000000]\n",
    "fig, ax = plt.subplots()\n",
    "ax.hist(views_over['views'])\n",
    "print(len(views_over))"
   ]
  },
  {
   "cell_type": "markdown",
   "metadata": {},
   "source": [
    "We can see that only 507 videos reached over the 25 million. About 1% of the videos reached this level."
   ]
  },
  {
   "cell_type": "code",
   "execution_count": 15,
   "metadata": {},
   "outputs": [
    {
     "name": "stdout",
     "output_type": "stream",
     "text": [
      "40442\n"
     ]
    },
    {
     "data": {
      "image/png": "[encoded data removed]",
      "text/plain": [
       "<Figure size 432x288 with 1 Axes>"
      ]
     },
     "metadata": {
      "needs_background": "light"
     },
     "output_type": "display_data"
    }
   ],
   "source": [
    "views_under = usvids[usvids['views'] <= 25000000]\n",
    "fig, ax = plt.subplots()\n",
    "ax.hist(views_under['views'])\n",
    "print(len(views_under))"
   ]
  },
  {
   "cell_type": "markdown",
   "metadata": {},
   "source": [
    "Here we can see that there is still a large portion with less views that we could look into. We will divide it again, this time with under 2.5 million views to see if we can see a trend."
   ]
  },
  {
   "cell_type": "code",
   "execution_count": 16,
   "metadata": {},
   "outputs": [
    {
     "name": "stdout",
     "output_type": "stream",
     "text": [
      "33248\n"
     ]
    },
    {
     "data": {
      "image/png": "[encoded data removed]",
      "text/plain": [
       "<Figure size 432x288 with 1 Axes>"
      ]
     },
     "metadata": {
      "needs_background": "light"
     },
     "output_type": "display_data"
    }
   ],
   "source": [
    "views_under2 = usvids[usvids['views'] <= 2500000]\n",
    "fig, ax = plt.subplots()\n",
    "ax.hist(views_under['views'])\n",
    "print(len(views_under2))"
   ]
  },
  {
   "cell_type": "markdown",
   "metadata": {},
   "source": [
    "After trying to "
   ]
  },
  {
   "cell_type": "markdown",
   "metadata": {},
   "source": [
    "## Section 3 Comment count and View count (Engagement)\n",
    "\n",
    "\n",
    "For this portion we are going to create a few more columns to help analyze the data. One will be the positive feedback, another with total comments, and another with comments and \n",
    "\n",
    "- comment/ view ratio (uploader, category, sum, ratio)\n",
    "- comment (disclaimer some uploaders can pull more engagement)\n",
    "\n",
    "artis\n",
    "**Frequency table of comment average based on channel, and category.**"
   ]
  },
  {
   "cell_type": "code",
   "execution_count": 57,
   "metadata": {},
   "outputs": [
    {
     "name": "stdout",
     "output_type": "stream",
     "text": [
      "633 videos have disabled comments\n",
      "760 videos have no comments\n"
     ]
    }
   ],
   "source": [
    "print(len(usvids[usvids['comments_disabled'] == True]),\"videos have disabled comments\")\n",
    "print(len(usvids[usvids['comment_count'] == 0]),\"videos have no comments\")"
   ]
  },
  {
   "cell_type": "markdown",
   "metadata": {},
   "source": [
    "It seems that 127 videos allowed comments but did not have comment engagement from its audience. Now let's see how many views and likes and dislikes these videos had."
   ]
  },
  {
   "cell_type": "code",
   "execution_count": 61,
   "metadata": {
    "scrolled": true
   },
   "outputs": [
    {
     "data": {
      "text/plain": [
       "count       127.000000\n",
       "mean     132900.275591\n",
       "std      706985.403988\n",
       "min         658.000000\n",
       "25%        2034.000000\n",
       "50%        2954.000000\n",
       "75%        4334.500000\n",
       "max     4399506.000000\n",
       "Name: views, dtype: float64"
      ]
     },
     "execution_count": 61,
     "metadata": {},
     "output_type": "execute_result"
    }
   ],
   "source": [
    "nocomments_vids = usvids[(usvids['comments_disabled'] == False) & (usvids['comment_count'] == 0)]\n",
    "nocomments_vids['views'].describe()"
   ]
  },
  {
   "cell_type": "markdown",
   "metadata": {},
   "source": [
    "There seems to be a video with a high amount of views and yet no comments. The majority seems to be under 5,000 views and the max is over 4 million. Let's investigate a bit further."
   ]
  },
  {
   "cell_type": "code",
   "execution_count": 63,
   "metadata": {},
   "outputs": [
    {
     "data": {
      "text/html": [
       "<div>\n",
       "<style scoped>\n",
       "    .dataframe tbody tr th:only-of-type {\n",
       "        vertical-align: middle;\n",
       "    }\n",
       "\n",
       "    .dataframe tbody tr th {\n",
       "        vertical-align: top;\n",
       "    }\n",
       "\n",
       "    .dataframe thead th {\n",
       "        text-align: right;\n",
       "    }\n",
       "</style>\n",
       "<table border=\"1\" class=\"dataframe\">\n",
       "  <thead>\n",
       "    <tr style=\"text-align: right;\">\n",
       "      <th></th>\n",
       "      <th>video_id</th>\n",
       "      <th>trending_date</th>\n",
       "      <th>title</th>\n",
       "      <th>channel_title</th>\n",
       "      <th>category_id</th>\n",
       "      <th>publish_time</th>\n",
       "      <th>tags</th>\n",
       "      <th>views</th>\n",
       "      <th>likes</th>\n",
       "      <th>dislikes</th>\n",
       "      <th>comment_count</th>\n",
       "      <th>thumbnail_link</th>\n",
       "      <th>comments_disabled</th>\n",
       "      <th>ratings_disabled</th>\n",
       "      <th>video_error_or_removed</th>\n",
       "      <th>description</th>\n",
       "    </tr>\n",
       "  </thead>\n",
       "  <tbody>\n",
       "    <tr>\n",
       "      <th>31635</th>\n",
       "      <td>q8v9MvManKE</td>\n",
       "      <td>2018-04-29</td>\n",
       "      <td>Earth Day 2018 Google Doodle</td>\n",
       "      <td>googledoodles</td>\n",
       "      <td>1</td>\n",
       "      <td>2018-04-21 15:00:50</td>\n",
       "      <td>[none]</td>\n",
       "      <td>4399506</td>\n",
       "      <td>95002</td>\n",
       "      <td>2020</td>\n",
       "      <td>0</td>\n",
       "      <td>https://i.ytimg.com/vi/q8v9MvManKE/default.jpg</td>\n",
       "      <td>False</td>\n",
       "      <td>False</td>\n",
       "      <td>True</td>\n",
       "      <td>Today’s annual Earth Day Doodle was created in...</td>\n",
       "    </tr>\n",
       "  </tbody>\n",
       "</table>\n",
       "</div>"
      ],
      "text/plain": [
       "          video_id trending_date                         title  channel_title  \\\n",
       "31635  q8v9MvManKE    2018-04-29  Earth Day 2018 Google Doodle  googledoodles   \n",
       "\n",
       "       category_id        publish_time    tags    views  likes  dislikes  \\\n",
       "31635            1 2018-04-21 15:00:50  [none]  4399506  95002      2020   \n",
       "\n",
       "       comment_count                                  thumbnail_link  \\\n",
       "31635              0  https://i.ytimg.com/vi/q8v9MvManKE/default.jpg   \n",
       "\n",
       "       comments_disabled  ratings_disabled  video_error_or_removed  \\\n",
       "31635              False             False                    True   \n",
       "\n",
       "                                             description  \n",
       "31635  Today’s annual Earth Day Doodle was created in...  "
      ]
     },
     "execution_count": 63,
     "metadata": {},
     "output_type": "execute_result"
    }
   ],
   "source": [
    "nocomments_vids[nocomments_vids['views'] == 4399506]"
   ]
  },
  {
   "cell_type": "markdown",
   "metadata": {},
   "source": [
    "This video has been altered, perhaps disabled comments later on as it has a True statement under \"video_error_or_removed\" column. We will remove it from the list and run the statistics again."
   ]
  },
  {
   "cell_type": "code",
   "execution_count": 77,
   "metadata": {},
   "outputs": [
    {
     "data": {
      "text/plain": [
       "count      123.000000\n",
       "mean      6298.357724\n",
       "std      15894.435147\n",
       "min        658.000000\n",
       "25%       2016.000000\n",
       "50%       2869.000000\n",
       "75%       4176.500000\n",
       "max     126680.000000\n",
       "Name: views, dtype: float64"
      ]
     },
     "execution_count": 77,
     "metadata": {},
     "output_type": "execute_result"
    }
   ],
   "source": [
    "nocomments_vids = usvids[(usvids['comments_disabled'] == False) & (usvids['comment_count'] == 0) & (usvids['views'] <= 200000)]\n",
    "nocomments_vids['views'].describe()"
   ]
  },
  {
   "cell_type": "code",
   "execution_count": 75,
   "metadata": {},
   "outputs": [
    {
     "data": {
      "text/html": [
       "<div>\n",
       "<style scoped>\n",
       "    .dataframe tbody tr th:only-of-type {\n",
       "        vertical-align: middle;\n",
       "    }\n",
       "\n",
       "    .dataframe tbody tr th {\n",
       "        vertical-align: top;\n",
       "    }\n",
       "\n",
       "    .dataframe thead th {\n",
       "        text-align: right;\n",
       "    }\n",
       "</style>\n",
       "<table border=\"1\" class=\"dataframe\">\n",
       "  <thead>\n",
       "    <tr style=\"text-align: right;\">\n",
       "      <th></th>\n",
       "      <th>video_id</th>\n",
       "      <th>trending_date</th>\n",
       "      <th>title</th>\n",
       "      <th>channel_title</th>\n",
       "      <th>category_id</th>\n",
       "      <th>publish_time</th>\n",
       "      <th>tags</th>\n",
       "      <th>views</th>\n",
       "      <th>likes</th>\n",
       "      <th>dislikes</th>\n",
       "      <th>comment_count</th>\n",
       "      <th>thumbnail_link</th>\n",
       "      <th>comments_disabled</th>\n",
       "      <th>ratings_disabled</th>\n",
       "      <th>video_error_or_removed</th>\n",
       "      <th>description</th>\n",
       "    </tr>\n",
       "  </thead>\n",
       "  <tbody>\n",
       "    <tr>\n",
       "      <th>11328</th>\n",
       "      <td>uui3jdrph5Q</td>\n",
       "      <td>2018-01-09</td>\n",
       "      <td>notting-hill-movie-clip-last-brownie</td>\n",
       "      <td>Tim Barrett</td>\n",
       "      <td>1</td>\n",
       "      <td>2011-11-10 22:02:04</td>\n",
       "      <td>notting|\"hill\"|\"movie\"|\"clip\"|\"last\"|\"brownie\"</td>\n",
       "      <td>26243</td>\n",
       "      <td>29</td>\n",
       "      <td>4</td>\n",
       "      <td>0</td>\n",
       "      <td>https://i.ytimg.com/vi/uui3jdrph5Q/default.jpg</td>\n",
       "      <td>False</td>\n",
       "      <td>False</td>\n",
       "      <td>False</td>\n",
       "      <td></td>\n",
       "    </tr>\n",
       "  </tbody>\n",
       "</table>\n",
       "</div>"
      ],
      "text/plain": [
       "          video_id trending_date                                 title  \\\n",
       "11328  uui3jdrph5Q    2018-01-09  notting-hill-movie-clip-last-brownie   \n",
       "\n",
       "      channel_title  category_id        publish_time  \\\n",
       "11328   Tim Barrett            1 2011-11-10 22:02:04   \n",
       "\n",
       "                                                 tags  views  likes  dislikes  \\\n",
       "11328  notting|\"hill\"|\"movie\"|\"clip\"|\"last\"|\"brownie\"  26243     29         4   \n",
       "\n",
       "       comment_count                                  thumbnail_link  \\\n",
       "11328              0  https://i.ytimg.com/vi/uui3jdrph5Q/default.jpg   \n",
       "\n",
       "       comments_disabled  ratings_disabled  video_error_or_removed description  \n",
       "11328              False             False                   False              "
      ]
     },
     "execution_count": 75,
     "metadata": {},
     "output_type": "execute_result"
    }
   ],
   "source": [
    "nocomments_vids[nocomments_vids['views'] == 26243]"
   ]
  },
  {
   "cell_type": "code",
   "execution_count": 50,
   "metadata": {},
   "outputs": [
    {
     "data": {
      "text/plain": [
       "count     40949.000000\n",
       "mean       8446.803683\n",
       "std       37430.486994\n",
       "min           0.000000\n",
       "25%         614.000000\n",
       "50%        1856.000000\n",
       "75%        5755.000000\n",
       "max     1361580.000000\n",
       "Name: comment_count, dtype: float64"
      ]
     },
     "execution_count": 50,
     "metadata": {},
     "output_type": "execute_result"
    }
   ],
   "source": [
    "usvids['comment_count'].describe()"
   ]
  },
  {
   "cell_type": "code",
   "execution_count": null,
   "metadata": {},
   "outputs": [],
   "source": []
  },
  {
   "cell_type": "markdown",
   "metadata": {},
   "source": [
    "## Section 4 Likes and Dislikes\n",
    "- create a variable for positive engagement, negative, and total engagement\n",
    "- examine accross time of day uploaded (AM, midday, PM)"
   ]
  },
  {
   "cell_type": "markdown",
   "metadata": {},
   "source": [
    "## Section 5 Channel Category category_id\n",
    "Now that we found the top 300 channels, let's see what type of channels they are.\n",
    "- are some categoris more likely to go into trending (music? news?)\n",
    "- does engagement and category vary for trending? *use groupby"
   ]
  },
  {
   "cell_type": "code",
   "execution_count": 17,
   "metadata": {},
   "outputs": [
    {
     "data": {
      "text/html": [
       "<div>\n",
       "<style scoped>\n",
       "    .dataframe tbody tr th:only-of-type {\n",
       "        vertical-align: middle;\n",
       "    }\n",
       "\n",
       "    .dataframe tbody tr th {\n",
       "        vertical-align: top;\n",
       "    }\n",
       "\n",
       "    .dataframe thead th {\n",
       "        text-align: right;\n",
       "    }\n",
       "</style>\n",
       "<table border=\"1\" class=\"dataframe\">\n",
       "  <thead>\n",
       "    <tr style=\"text-align: right;\">\n",
       "      <th></th>\n",
       "      <th>index</th>\n",
       "      <th>category_id</th>\n",
       "    </tr>\n",
       "  </thead>\n",
       "  <tbody>\n",
       "    <tr>\n",
       "      <th>0</th>\n",
       "      <td>24</td>\n",
       "      <td>9964</td>\n",
       "    </tr>\n",
       "    <tr>\n",
       "      <th>1</th>\n",
       "      <td>10</td>\n",
       "      <td>6472</td>\n",
       "    </tr>\n",
       "    <tr>\n",
       "      <th>2</th>\n",
       "      <td>26</td>\n",
       "      <td>4146</td>\n",
       "    </tr>\n",
       "    <tr>\n",
       "      <th>3</th>\n",
       "      <td>23</td>\n",
       "      <td>3457</td>\n",
       "    </tr>\n",
       "    <tr>\n",
       "      <th>4</th>\n",
       "      <td>22</td>\n",
       "      <td>3210</td>\n",
       "    </tr>\n",
       "    <tr>\n",
       "      <th>5</th>\n",
       "      <td>25</td>\n",
       "      <td>2487</td>\n",
       "    </tr>\n",
       "    <tr>\n",
       "      <th>6</th>\n",
       "      <td>28</td>\n",
       "      <td>2401</td>\n",
       "    </tr>\n",
       "    <tr>\n",
       "      <th>7</th>\n",
       "      <td>1</td>\n",
       "      <td>2345</td>\n",
       "    </tr>\n",
       "    <tr>\n",
       "      <th>8</th>\n",
       "      <td>17</td>\n",
       "      <td>2174</td>\n",
       "    </tr>\n",
       "    <tr>\n",
       "      <th>9</th>\n",
       "      <td>27</td>\n",
       "      <td>1656</td>\n",
       "    </tr>\n",
       "    <tr>\n",
       "      <th>10</th>\n",
       "      <td>15</td>\n",
       "      <td>920</td>\n",
       "    </tr>\n",
       "    <tr>\n",
       "      <th>11</th>\n",
       "      <td>20</td>\n",
       "      <td>817</td>\n",
       "    </tr>\n",
       "    <tr>\n",
       "      <th>12</th>\n",
       "      <td>19</td>\n",
       "      <td>402</td>\n",
       "    </tr>\n",
       "    <tr>\n",
       "      <th>13</th>\n",
       "      <td>2</td>\n",
       "      <td>384</td>\n",
       "    </tr>\n",
       "    <tr>\n",
       "      <th>14</th>\n",
       "      <td>29</td>\n",
       "      <td>57</td>\n",
       "    </tr>\n",
       "    <tr>\n",
       "      <th>15</th>\n",
       "      <td>43</td>\n",
       "      <td>57</td>\n",
       "    </tr>\n",
       "  </tbody>\n",
       "</table>\n",
       "</div>"
      ],
      "text/plain": [
       "    index  category_id\n",
       "0      24         9964\n",
       "1      10         6472\n",
       "2      26         4146\n",
       "3      23         3457\n",
       "4      22         3210\n",
       "5      25         2487\n",
       "6      28         2401\n",
       "7       1         2345\n",
       "8      17         2174\n",
       "9      27         1656\n",
       "10     15          920\n",
       "11     20          817\n",
       "12     19          402\n",
       "13      2          384\n",
       "14     29           57\n",
       "15     43           57"
      ]
     },
     "execution_count": 17,
     "metadata": {},
     "output_type": "execute_result"
    }
   ],
   "source": [
    "channeltypes = pd.value_counts(usvids['category_id']).to_frame().reset_index()\n",
    "channeltypes"
   ]
  },
  {
   "cell_type": "markdown",
   "metadata": {},
   "source": [
    "Let's input the Channel Type Category:\n",
    "The information is found on the JSON file included with the data."
   ]
  },
  {
   "cell_type": "code",
   "execution_count": 30,
   "metadata": {},
   "outputs": [],
   "source": [
    "categoryidname = [\n",
    "    [24,'Entertainment'],\n",
    "    [10,'Music'],\n",
    "    [26,'Howto & Style'],\n",
    "    [23,'Comedy'],\n",
    "    [22,'People & Blogs'],\n",
    "    [25,'News & Politics'],\n",
    "    [28,'Science & Technology'],\n",
    "    [1,'Film & Animation'],\n",
    "    [17,'Sports'],\n",
    "    [27,'Education'],\n",
    "    [15,'Pets & Animals'],\n",
    "    [20,'Gaming'],\n",
    "    [19,'Travel & Events'],\n",
    "    [2,'Autos & Vehicles'],\n",
    "    [29,'Non-Profits & Activism'],\n",
    "    [43,'Shows'],\n",
    "]\n",
    "categoryname = pd.DataFrame(categoryidname,columns=['index','categoryname'])"
   ]
  },
  {
   "cell_type": "code",
   "execution_count": 41,
   "metadata": {},
   "outputs": [
    {
     "name": "stdout",
     "output_type": "stream",
     "text": [
      "    index            categoryname  count\n",
      "0      24           Entertainment   9964\n",
      "1      10                   Music   6472\n",
      "2      26           Howto & Style   4146\n",
      "3      23                  Comedy   3457\n",
      "4      22          People & Blogs   3210\n",
      "5      25         News & Politics   2487\n",
      "6      28    Science & Technology   2401\n",
      "7       1        Film & Animation   2345\n",
      "8      17                  Sports   2174\n",
      "9      27               Education   1656\n",
      "10     15          Pets & Animals    920\n",
      "11     20                  Gaming    817\n",
      "12     19         Travel & Events    402\n",
      "13      2        Autos & Vehicles    384\n",
      "14     29  Non-Profits & Activism     57\n",
      "15     43                   Shows     57\n"
     ]
    }
   ],
   "source": [
    "cat= pd.merge(categoryname,channeltypes,on='index')\n",
    "cat.rename(columns={'category_id':'count'},inplace=True)\n",
    "print(cat)"
   ]
  },
  {
   "cell_type": "markdown",
   "metadata": {},
   "source": [
    "## Section 6 Keywords\n",
    "- are certain titles *click bait* worthy?\n",
    "- click bait worthy words ...use a dictionary"
   ]
  },
  {
   "cell_type": "markdown",
   "metadata": {},
   "source": [
    "## Section 7 Date\n",
    "- create a weekday/ weekend/ days 1~7 variable\n",
    "- create AM, PM, midday variable\n",
    "- difference in date between upload and trending date"
   ]
  },
  {
   "cell_type": "code",
   "execution_count": 52,
   "metadata": {},
   "outputs": [
    {
     "name": "stdout",
     "output_type": "stream",
     "text": [
      "17.01.12 18.31.05\n"
     ]
    }
   ],
   "source": [
    "date = usvids['trending_date'].unique()\n",
    "len(date)\n",
    "lastday = date.max()\n",
    "firstday = date.min()\n",
    "print(firstday,lastday)\n",
    "\n",
    "dateformat = '%y.%d.%m'\n",
    "usvids['trending_date'] = pd.to_datetime(usvids['trending_date'].astype(str),format='%y.%d.%m')\n",
    "usvids['publish_time'] = pd.to_datetime(usvids['publish_time'].astype(str),format='%Y-%m-%dT%H:%M:%S.000Z')"
   ]
  },
  {
   "cell_type": "code",
   "execution_count": 53,
   "metadata": {},
   "outputs": [
    {
     "data": {
      "text/plain": [
       "Timestamp('2017-11-13 07:30:00')"
      ]
     },
     "execution_count": 53,
     "metadata": {},
     "output_type": "execute_result"
    }
   ],
   "source": []
  },
  {
   "cell_type": "markdown",
   "metadata": {},
   "source": [
    "## Section 8 Conclusion\n",
    "- other questions that surged\n",
    "- are other countries different (category etc)"
   ]
  },
  {
   "cell_type": "code",
   "execution_count": 22,
   "metadata": {},
   "outputs": [
    {
     "name": "stdout",
     "output_type": "stream",
     "text": [
      "6351\n"
     ]
    },
    {
     "data": {
      "text/plain": [
       "40949"
      ]
     },
     "execution_count": 22,
     "metadata": {},
     "output_type": "execute_result"
    }
   ],
   "source": [
    "#rtis\n",
    "print(len(usvids['video_id'].unique()))\n",
    "len(usvids)"
   ]
  },
  {
   "cell_type": "code",
   "execution_count": 51,
   "metadata": {},
   "outputs": [],
   "source": [
    "#usvids.pivot_table(['views','likes','dislikes'],'category_id', aggfunc=np.max)"
   ]
  }
 ],
 "metadata": {
  "kernelspec": {
   "display_name": "Python 3",
   "language": "python",
   "name": "python3"
  },
  "language_info": {
   "codemirror_mode": {
    "name": "ipython",
    "version": 3
   },
   "file_extension": ".py",
   "mimetype": "text/x-python",
   "name": "python",
   "nbconvert_exporter": "python",
   "pygments_lexer": "ipython3",
   "version": "3.7.3"
  }
 },
 "nbformat": 4,
 "nbformat_minor": 2
}
